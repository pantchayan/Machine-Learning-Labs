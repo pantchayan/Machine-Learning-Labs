{
  "nbformat": 4,
  "nbformat_minor": 0,
  "metadata": {
    "colab": {
      "name": "task_2_logistic_diabetes.ipynb",
      "provenance": [],
      "collapsed_sections": [],
      "toc_visible": true
    },
    "kernelspec": {
      "display_name": "Python 3",
      "language": "python",
      "name": "python3"
    },
    "language_info": {
      "codemirror_mode": {
        "name": "ipython",
        "version": 3
      },
      "file_extension": ".py",
      "mimetype": "text/x-python",
      "name": "python",
      "nbconvert_exporter": "python",
      "pygments_lexer": "ipython3",
      "version": "3.8.5"
    },
    "toc": {
      "base_numbering": 1,
      "nav_menu": {},
      "number_sections": true,
      "sideBar": true,
      "skip_h1_title": false,
      "title_cell": "Table of Contents",
      "title_sidebar": "Contents",
      "toc_cell": false,
      "toc_position": {},
      "toc_section_display": true,
      "toc_window_display": false
    }
  },
  "cells": [
    {
      "cell_type": "markdown",
      "metadata": {
        "colab_type": "text",
        "id": "BHdMfFcnf_Ki"
      },
      "source": [
        "## Logistic Regression Modeling for Early Stage Diabetes Risk Prediction"
      ]
    },
    {
      "cell_type": "markdown",
      "metadata": {
        "id": "ALC_35_TBzVj",
        "colab_type": "text"
      },
      "source": [
        "## Part 2.1: Getting familiar with linear algebraic functions"
      ]
    },
    {
      "cell_type": "markdown",
      "metadata": {
        "id": "o8gcu24yBzVl",
        "colab_type": "text"
      },
      "source": [
        "#### Tasks\n",
        "- Create matrix of size 10*10 with random integer numbers\n",
        "- Compute the following linear algebric operations on the matrix using built in functions supported in Numpy, Scipy etc.\n",
        "  - Find inverse of the matrix and print it\n",
        "  - Calculate dot product of the matrix with same matrix in transpose A.AT\n",
        "  - Decompose the original matrix using eigen decomposition print the eigen values and eigen vectors\n",
        "  - Calculate jacobian matrix \n",
        "  - Calculate hessian matrix"
      ]
    },
    {
      "cell_type": "code",
      "metadata": {
        "id": "opY0JBgABzVm",
        "colab_type": "code",
        "colab": {}
      },
      "source": [
        "import numpy as np\n",
        "import numpy.linalg as npa\n",
        "import numdifftools as nd"
      ],
      "execution_count": null,
      "outputs": []
    },
    {
      "cell_type": "code",
      "metadata": {
        "id": "7JpVvS6OBzVs",
        "colab_type": "code",
        "colab": {}
      },
      "source": [
        "matr = np.random.random((10,10))"
      ],
      "execution_count": 41,
      "outputs": []
    },
    {
      "cell_type": "code",
      "metadata": {
        "id": "aeR-GsfZ1Utr",
        "colab_type": "code",
        "colab": {
          "base_uri": "https://localhost:8080/",
          "height": 364
        },
        "outputId": "27a1f084-5155-4fa6-eed1-de0094183e3b"
      },
      "source": [
        "matr"
      ],
      "execution_count": 45,
      "outputs": [
        {
          "output_type": "execute_result",
          "data": {
            "text/plain": [
              "array([[0.94051316, 0.55145571, 0.8736853 , 0.54066163, 0.26567437,\n",
              "        0.4325297 , 0.42912759, 0.40063081, 0.35956462, 0.55691837],\n",
              "       [0.36206108, 0.98524656, 0.05644134, 0.33158023, 0.04686758,\n",
              "        0.51609276, 0.92644421, 0.36415256, 0.72550864, 0.39177593],\n",
              "       [0.44690814, 0.68463934, 0.42964632, 0.28540374, 0.00496417,\n",
              "        0.35062976, 0.03697364, 0.78186898, 0.3733378 , 0.97085364],\n",
              "       [0.32100565, 0.15592517, 0.46194156, 0.62501203, 0.16711266,\n",
              "        0.35422693, 0.92494518, 0.80728143, 0.71617447, 0.15715512],\n",
              "       [0.30581663, 0.0921161 , 0.6864044 , 0.88821582, 0.32662272,\n",
              "        0.89813811, 0.79705583, 0.82423722, 0.68888428, 0.81459037],\n",
              "       [0.73669582, 0.76158998, 0.69130908, 0.64563883, 0.68166677,\n",
              "        0.85348531, 0.12649459, 0.65183286, 0.81109671, 0.24502724],\n",
              "       [0.67720587, 0.38895612, 0.17880742, 0.57294736, 0.12236026,\n",
              "        0.69366959, 0.34263782, 0.75521727, 0.81066929, 0.89980147],\n",
              "       [0.93209014, 0.59804321, 0.40376909, 0.60413133, 0.91566208,\n",
              "        0.68592385, 0.10992074, 0.30025693, 0.84008783, 0.93397597],\n",
              "       [0.38042419, 0.04863133, 0.48567228, 0.289052  , 0.06554992,\n",
              "        0.12989302, 0.58301863, 0.21269752, 0.85268549, 0.40832893],\n",
              "       [0.61467733, 0.45226934, 0.65349289, 0.9899665 , 0.55280096,\n",
              "        0.30104836, 0.17429162, 0.66137137, 0.94167352, 0.71708976]])"
            ]
          },
          "metadata": {
            "tags": []
          },
          "execution_count": 45
        }
      ]
    },
    {
      "cell_type": "code",
      "metadata": {
        "id": "swA-I1V0BzVz",
        "colab_type": "code",
        "colab": {}
      },
      "source": [
        "m_inv = np.linalg.inv(matr)"
      ],
      "execution_count": 46,
      "outputs": []
    },
    {
      "cell_type": "code",
      "metadata": {
        "id": "PX82M7Mb1bpb",
        "colab_type": "code",
        "colab": {
          "base_uri": "https://localhost:8080/",
          "height": 364
        },
        "outputId": "d1f527d4-3d70-4a14-8c48-794ac765ce13"
      },
      "source": [
        "m_inv"
      ],
      "execution_count": 47,
      "outputs": [
        {
          "output_type": "execute_result",
          "data": {
            "text/plain": [
              "array([[ 1.07301657, -0.42043094, -0.62490798,  0.60587861, -1.00015494,\n",
              "        -0.25470131,  1.25197414,  0.21845631, -0.29092258, -0.3570464 ],\n",
              "       [ 0.01746227,  0.85028764,  0.37211815, -0.40388619, -0.15862572,\n",
              "         0.21483967, -0.57360515, -0.23839709, -0.32223316,  0.42713158],\n",
              "       [ 0.32065604, -0.26459428,  0.54295371, -0.54785685,  0.51862904,\n",
              "         0.57773778, -1.05750381, -0.44693009,  0.92804652, -0.12545452],\n",
              "       [ 0.61117221,  0.52564546, -1.29470238, -0.89253885,  0.41932105,\n",
              "        -0.4478675 ,  0.71626019, -0.98587152, -1.0502407 ,  1.84666163],\n",
              "       [-0.63748322, -0.31471792,  0.52837173,  1.35865707, -0.08053522,\n",
              "        -0.23437644, -1.3761395 ,  1.74622346, -0.43785579, -0.47277746],\n",
              "       [-0.02413811,  0.09438187, -0.51764205, -1.04555825,  0.88096019,\n",
              "         0.89253399,  0.68231467, -0.4405589 ,  0.06021314, -0.72521465],\n",
              "       [ 0.2393951 ,  0.35721368, -0.03955123,  0.88035924,  0.14318193,\n",
              "        -0.69735194, -0.52450695,  0.59615634, -0.12415873, -0.49245733],\n",
              "       [-0.48518414, -0.6681201 ,  0.99153737,  1.7034168 , -0.56086516,\n",
              "         0.12493813,  0.01933312,  0.29580567, -0.52799997, -0.48834692],\n",
              "       [-0.79864809,  0.02527358, -0.09062542, -0.43363556, -0.28793627,\n",
              "         0.63355015,  0.31973621, -0.31434188,  1.31001682,  0.1970412 ],\n",
              "       [-0.12710666,  0.03875243,  0.6176691 , -0.35719511,  0.45868035,\n",
              "        -0.79710755, -0.27231354,  0.5652925 ,  0.16587433, -0.02359789]])"
            ]
          },
          "metadata": {
            "tags": []
          },
          "execution_count": 47
        }
      ]
    },
    {
      "cell_type": "code",
      "metadata": {
        "id": "bvgof2NRBzV6",
        "colab_type": "code",
        "colab": {
          "base_uri": "https://localhost:8080/",
          "height": 364
        },
        "outputId": "f3dfef5c-0416-4d1e-8ef6-0e76a7098a81"
      },
      "source": [
        "np.dot(matr, matr.T)"
      ],
      "execution_count": 50,
      "outputs": [
        {
          "output_type": "execute_result",
          "data": {
            "text/plain": [
              "array([[3.28607454, 2.37061264, 2.48456292, 2.39239354, 3.26720708,\n",
              "        3.35970161, 2.89214846, 3.41546196, 1.90821754, 3.28849211],\n",
              "       [2.37061264, 3.15423552, 2.10661128, 2.42585281, 2.8710726 ,\n",
              "        2.78161816, 2.72532755, 2.73329109, 1.77520829, 2.58100452],\n",
              "       [2.48456292, 2.10661128, 2.75209909, 1.83743341, 2.78663499,\n",
              "        2.68960072, 2.83249592, 2.8761689 , 1.44296845, 2.82725884],\n",
              "       [2.39239354, 2.42585281, 1.83743341, 2.92962118, 3.3814866 ,\n",
              "        2.75696079, 2.63348005, 2.44504575, 1.97748976, 2.86969092],\n",
              "       [3.26720708, 2.8710726 , 2.78663499, 3.3814866 , 4.72820601,\n",
              "        3.72906505, 3.72454838, 3.74364339, 2.40903394, 3.92533005],\n",
              "       [3.35970161, 2.78161816, 2.68960072, 2.75696079, 3.72906505,\n",
              "        4.36940771, 3.37771812, 4.14077659, 1.99926592, 3.91461216],\n",
              "       [2.89214846, 2.72532755, 2.83249592, 2.63348005, 3.72454838,\n",
              "        3.37771812, 3.62086615, 3.65585558, 2.04617586, 3.52051526],\n",
              "       [3.41546196, 2.73329109, 2.8761689 , 2.44504575, 3.74364339,\n",
              "        4.14077659, 3.65585558, 4.74367588, 2.12916625, 4.09658909],\n",
              "       [1.90821754, 1.77520829, 1.44296845, 1.97748976, 2.40903394,\n",
              "        1.99926592, 2.04617586, 2.12916625, 1.76664119, 2.27275506],\n",
              "       [3.28849211, 2.58100452, 2.82725884, 2.86969092, 3.92533005,\n",
              "        3.91461216, 3.52051526, 4.09658909, 2.27275506, 4.25443783]])"
            ]
          },
          "metadata": {
            "tags": []
          },
          "execution_count": 50
        }
      ]
    },
    {
      "cell_type": "code",
      "metadata": {
        "id": "jCh4qIrxBzV_",
        "colab_type": "code",
        "colab": {
          "base_uri": "https://localhost:8080/",
          "height": 884
        },
        "outputId": "a8580fca-a64c-49f9-fc00-e8154a63eef7"
      },
      "source": [
        "#eigen value and vector\n",
        "values, vectors = np.linalg.eig(matr)\n",
        "vectors"
      ],
      "execution_count": 54,
      "outputs": [
        {
          "output_type": "execute_result",
          "data": {
            "text/plain": [
              "array([[ 0.31462751+0.j        , -0.18939064-0.04536414j,\n",
              "        -0.18939064+0.04536414j,  0.08526667-0.03718535j,\n",
              "         0.08526667+0.03718535j,  0.53018741+0.j        ,\n",
              "         0.53018741-0.j        , -0.62821962+0.j        ,\n",
              "         0.46719233+0.j        , -0.42820881+0.j        ],\n",
              "       [ 0.27033556+0.j        , -0.02954823-0.12134743j,\n",
              "        -0.02954823+0.12134743j, -0.025903  -0.09079596j,\n",
              "        -0.025903  +0.09079596j, -0.37893166+0.25582265j,\n",
              "        -0.37893166-0.25582265j,  0.17183161+0.j        ,\n",
              "         0.31029736+0.j        , -0.11821506+0.j        ],\n",
              "       [ 0.262404  +0.j        ,  0.39782855-0.15779036j,\n",
              "         0.39782855+0.15779036j, -0.01015302-0.02299401j,\n",
              "        -0.01015302+0.02299401j,  0.19789683+0.40977778j,\n",
              "         0.19789683-0.40977778j,  0.31760941+0.j        ,\n",
              "         0.00862485+0.j        ,  0.07785414+0.j        ],\n",
              "       [ 0.27410784+0.j        , -0.17133011-0.29550709j,\n",
              "        -0.17133011+0.29550709j, -0.52700247+0.j        ,\n",
              "        -0.52700247-0.j        , -0.24221069-0.21482678j,\n",
              "        -0.24221069+0.21482678j, -0.28402185+0.j        ,\n",
              "        -0.10594878+0.j        ,  0.01921178+0.j        ],\n",
              "       [ 0.38140109+0.j        ,  0.03785286-0.31429902j,\n",
              "         0.03785286+0.31429902j,  0.42713224+0.02024251j,\n",
              "         0.42713224-0.02024251j, -0.16842877-0.08943472j,\n",
              "        -0.16842877+0.08943472j, -0.07072339+0.j        ,\n",
              "        -0.19314921+0.j        , -0.04238645+0.j        ],\n",
              "       [ 0.36448497+0.j        , -0.09054045+0.23019695j,\n",
              "        -0.09054045-0.23019695j, -0.24440646+0.21927893j,\n",
              "        -0.24440646-0.21927893j,  0.20529538+0.00306009j,\n",
              "         0.20529538-0.00306009j, -0.0403855 +0.j        ,\n",
              "         0.53045441+0.j        , -0.57671462+0.j        ],\n",
              "       [ 0.3245045 +0.j        ,  0.44672958+0.j        ,\n",
              "         0.44672958-0.j        ,  0.24765276+0.0884388j ,\n",
              "         0.24765276-0.0884388j , -0.08240316-0.16110444j,\n",
              "        -0.08240316+0.16110444j, -0.19502846+0.j        ,\n",
              "        -0.00423762+0.j        , -0.0306783 +0.j        ],\n",
              "       [ 0.37731728+0.j        ,  0.04387284+0.40724922j,\n",
              "         0.04387284-0.40724922j,  0.30844108-0.34894714j,\n",
              "         0.30844108+0.34894714j,  0.00540119-0.01531523j,\n",
              "         0.00540119+0.01531523j, -0.15010595+0.j        ,\n",
              "        -0.00312317+0.j        , -0.11299235+0.j        ],\n",
              "       [ 0.18972896+0.j        , -0.16134561-0.09869944j,\n",
              "        -0.16134561+0.09869944j, -0.03252773-0.11521522j,\n",
              "        -0.03252773+0.11521522j,  0.00083723-0.21071556j,\n",
              "         0.00083723+0.21071556j,  0.54307411+0.j        ,\n",
              "        -0.414605  +0.j        ,  0.54661304+0.j        ],\n",
              "       [ 0.34921709+0.j        , -0.08345622+0.27412273j,\n",
              "        -0.08345622-0.27412273j, -0.00995391+0.33602691j,\n",
              "        -0.00995391-0.33602691j, -0.18310419+0.09224647j,\n",
              "        -0.18310419-0.09224647j,  0.17927545+0.j        ,\n",
              "        -0.42840849+0.j        ,  0.38644721+0.j        ]])"
            ]
          },
          "metadata": {
            "tags": []
          },
          "execution_count": 54
        }
      ]
    },
    {
      "cell_type": "code",
      "metadata": {
        "id": "q108aQVj3OZi",
        "colab_type": "code",
        "colab": {}
      },
      "source": [
        "import autograd.numpy as np"
      ],
      "execution_count": 62,
      "outputs": []
    },
    {
      "cell_type": "code",
      "metadata": {
        "id": "0J5W2psn3Tzz",
        "colab_type": "code",
        "colab": {}
      },
      "source": [
        "def costV(x):\n",
        "  y = np.sum(x**3)\n",
        "  return y"
      ],
      "execution_count": 63,
      "outputs": []
    },
    {
      "cell_type": "code",
      "metadata": {
        "id": "oSKnngxE2UD3",
        "colab_type": "code",
        "colab": {}
      },
      "source": [
        "def cost(x):\n",
        "  y = x**3\n",
        "  return y"
      ],
      "execution_count": 64,
      "outputs": []
    },
    {
      "cell_type": "code",
      "metadata": {
        "id": "sZMjshBp2aeX",
        "colab_type": "code",
        "colab": {
          "base_uri": "https://localhost:8080/",
          "height": 34
        },
        "outputId": "b4f3e292-1489-4665-de32-0bc656a6c65a"
      },
      "source": [
        "import autograd\n",
        "\n",
        "jac = autograd.jacobian(cost)\n",
        "\n",
        "jacV = autograd.jacobian(costV)\n",
        "\n",
        "jac(4.)"
      ],
      "execution_count": 67,
      "outputs": [
        {
          "output_type": "execute_result",
          "data": {
            "text/plain": [
              "array(48.)"
            ]
          },
          "metadata": {
            "tags": []
          },
          "execution_count": 67
        }
      ]
    },
    {
      "cell_type": "code",
      "metadata": {
        "id": "Gy1YNy0u2m_3",
        "colab_type": "code",
        "colab": {
          "base_uri": "https://localhost:8080/",
          "height": 34
        },
        "outputId": "0f86272b-1d6a-4979-d880-9021d46b3a8d"
      },
      "source": [
        "\n",
        "jacV(np.array([4.,12.]))"
      ],
      "execution_count": 66,
      "outputs": [
        {
          "output_type": "execute_result",
          "data": {
            "text/plain": [
              "array([ 48., 432.])"
            ]
          },
          "metadata": {
            "tags": []
          },
          "execution_count": 66
        }
      ]
    },
    {
      "cell_type": "code",
      "metadata": {
        "id": "lUh7bhpsBzWD",
        "colab_type": "code",
        "colab": {
          "base_uri": "https://localhost:8080/",
          "height": 34
        },
        "outputId": "27eb96ab-cba0-4746-f892-1d0bc2fe36ac"
      },
      "source": [
        "hes = autograd.hessian(cost)\n",
        "\n",
        "hesV = autograd.hessian(costV)\n",
        "\n",
        "hes(4.)"
      ],
      "execution_count": 68,
      "outputs": [
        {
          "output_type": "execute_result",
          "data": {
            "text/plain": [
              "array(24.)"
            ]
          },
          "metadata": {
            "tags": []
          },
          "execution_count": 68
        }
      ]
    },
    {
      "cell_type": "code",
      "metadata": {
        "id": "gUQ3FJPt3126",
        "colab_type": "code",
        "colab": {
          "base_uri": "https://localhost:8080/",
          "height": 52
        },
        "outputId": "46fc527b-e4d9-499b-e1e4-ad3c762b88bb"
      },
      "source": [
        "hesV(np.array([4.,12.]))"
      ],
      "execution_count": 69,
      "outputs": [
        {
          "output_type": "execute_result",
          "data": {
            "text/plain": [
              "array([[24.,  0.],\n",
              "       [ 0., 72.]])"
            ]
          },
          "metadata": {
            "tags": []
          },
          "execution_count": 69
        }
      ]
    },
    {
      "cell_type": "markdown",
      "metadata": {
        "id": "--SBtmZNBzWR",
        "colab_type": "text"
      },
      "source": [
        "## Part 2.2: Logistic Regression using newton method"
      ]
    },
    {
      "cell_type": "markdown",
      "metadata": {
        "colab_type": "text",
        "id": "1LWrifqkf_Kj"
      },
      "source": [
        "### Logistic regression\n",
        "Logistic regression uses an equation as the representation, very much like linear regression.\n",
        "\n",
        "Input values (x) are combined linearly using weights or coefficient values (referred to as W) to predict an output value (y). A key difference from linear regression is that the output value being modeled is a binary values (0 or 1) rather than a continuous value.<br>\n",
        "\n",
        "###  $\\hat{y}(w, x) = \\frac{1}{1+exp^{-(w_0 + w_1 * x_1 + ... + w_p * x_p)}}$\n",
        "\n",
        "#### Dataset\n",
        "The dataset is available at <strong>\"data/diabetes_data.csv\"</strong> in the respective challenge's repo.<br>\n",
        "<strong>Original Source:</strong> http://archive.ics.uci.edu/ml/machine-learning-databases/00529/diabetes_data_upload.csv. The dataset just got released in July 2020.<br><br>\n",
        "\n",
        "#### Features (X)\n",
        "\n",
        "1. Age                - Values ranging from 16-90\n",
        "2. Gender             - Binary value (Male/Female)\n",
        "3. Polyuria           - Binary value (Yes/No)\n",
        "4. Polydipsia         - Binary value (Yes/No)\n",
        "5. sudden weight loss - Binary value (Yes/No)\n",
        "6. weakness           - Binary value (Yes/No)\n",
        "7. Polyphagia         - Binary value (Yes/No)\n",
        "8. Genital thrush     - Binary value (Yes/No)\n",
        "9. visual blurring    - Binary value (Yes/No)\n",
        "10. Itching           - Binary value (Yes/No)\n",
        "11. Irritability      - Binary value (Yes/No)\n",
        "12. delayed healing   - Binary value (Yes/No)\n",
        "13. partial paresis   - Binary value (Yes/No)\n",
        "14. muscle stiffness  - Binary value (Yes/No)\n",
        "15. Alopecia          - Binary value (Yes/No)\n",
        "16. Obesity           - Binary value (Yes/No)\n",
        "\n",
        "#### Output/Target target (Y) \n",
        "17. class - Binary class (Positive/Negative)\n",
        "\n",
        "#### Objective\n",
        "To learn logistic regression and practice handling of both numerical and categorical features\n",
        "\n",
        "#### Tasks\n",
        "- Download, load the data and print first 5 and last 5 rows\n",
        "- Transform categorical features into numerical features. Use label encoding or any other suitable preprocessing technique\n",
        "- Since the age feature is in larger range, age column can be normalized into smaller scale (like 0 to 1) using different methods such as scaling, standardizing or any other suitable preprocessing technique (Example - sklearn.preprocessing.MinMaxScaler class)\n",
        "- Define X matrix (independent features) and y vector (target feature)\n",
        "- Split the dataset into 60% for training and rest 40% for testing (sklearn.model_selection.train_test_split function)\n",
        "- Train Logistic Regression Model on the training set (sklearn.linear_model.LogisticRegression class)\n",
        "- Use the trained model to predict on testing set\n",
        "- Print 'Accuracy' obtained on the testing dataset i.e. (sklearn.metrics.accuracy_score function)\n",
        "\n",
        "#### Further fun (will not be evaluated)\n",
        "- Plot loss curve (Loss vs number of iterations)\n",
        "- Preprocess data with different feature scaling methods (i.e. scaling, normalization, standardization, etc) and observe accuracies on both X_train and X_test\n",
        "- Training model on different train-test splits such as 60-40, 50-50, 70-30, 80-20, 90-10, 95-5 etc. and observe accuracies on both X_train and X_test\n",
        "- Shuffling of training samples with different *random seed values* in the train_test_split function. Check the model error for the testing data for each setup.\n",
        "- Print other classification metrics such as:\n",
        "    - classification report (sklearn.metrics.classification_report),\n",
        "    - confusion matrix (sklearn.metrics.confusion_matrix),\n",
        "    - precision, recall and f1 scores (sklearn.metrics.precision_recall_fscore_support)\n",
        "\n",
        "#### Helpful links\n",
        "- Scikit-learn documentation for logistic regression: https://scikit-learn.org/stable/modules/generated/sklearn.linear_model.LogisticRegression.html\n",
        "- How Logistic Regression works: https://machinelearningmastery.com/logistic-regression-for-machine-learning/\n",
        "- Feature Scaling: https://scikit-learn.org/stable/modules/preprocessing.html\n",
        "- Training testing splitting: https://scikit-learn.org/stable/modules/generated/sklearn.model_selection.train_test_split.html\n",
        "- Classification metrics in sklearn: https://scikit-learn.org/stable/modules/classes.html#module-sklearn.metrics\n",
        "- Use slack for doubts: https://join.slack.com/t/deepconnectai/shared_invite/zt-givlfnf6-~cn3SQ43k0BGDrG9_YOn4g"
      ]
    },
    {
      "cell_type": "code",
      "metadata": {
        "colab_type": "code",
        "id": "-i4VgviHf_Kk",
        "colab": {}
      },
      "source": [
        "import numpy as np\n",
        "import pandas as pd\n",
        "from sklearn.model_selection import train_test_split\n",
        "from sklearn.linear_model import LogisticRegression\n",
        "from sklearn.metrics import accuracy_score\n",
        "from sklearn.preprocessing import MinMaxScaler\n",
        "import matplotlib.pyplot as plt\n"
      ],
      "execution_count": 33,
      "outputs": []
    },
    {
      "cell_type": "code",
      "metadata": {
        "colab_type": "code",
        "id": "ooYDzG4SnErt",
        "colab": {}
      },
      "source": [
        "\n"
      ],
      "execution_count": null,
      "outputs": []
    },
    {
      "cell_type": "code",
      "metadata": {
        "colab_type": "code",
        "id": "XqZrgW_if_Kq",
        "colab": {
          "base_uri": "https://localhost:8080/",
          "height": 220
        },
        "outputId": "b28b17f3-c0a1-4192-b75a-7ff5edae19eb"
      },
      "source": [
        "# NOTE: DO NOT CHANGE THE VARIABLE NAME(S) IN THIS CELL\n",
        "# Load the data\n",
        "data = pd.read_csv('diabetes_data.csv')\n",
        "data.head()"
      ],
      "execution_count": 13,
      "outputs": [
        {
          "output_type": "execute_result",
          "data": {
            "text/html": [
              "<div>\n",
              "<style scoped>\n",
              "    .dataframe tbody tr th:only-of-type {\n",
              "        vertical-align: middle;\n",
              "    }\n",
              "\n",
              "    .dataframe tbody tr th {\n",
              "        vertical-align: top;\n",
              "    }\n",
              "\n",
              "    .dataframe thead th {\n",
              "        text-align: right;\n",
              "    }\n",
              "</style>\n",
              "<table border=\"1\" class=\"dataframe\">\n",
              "  <thead>\n",
              "    <tr style=\"text-align: right;\">\n",
              "      <th></th>\n",
              "      <th>Age</th>\n",
              "      <th>Gender</th>\n",
              "      <th>Polyuria</th>\n",
              "      <th>Polydipsia</th>\n",
              "      <th>sudden weight loss</th>\n",
              "      <th>weakness</th>\n",
              "      <th>Polyphagia</th>\n",
              "      <th>Genital thrush</th>\n",
              "      <th>visual blurring</th>\n",
              "      <th>Itching</th>\n",
              "      <th>Irritability</th>\n",
              "      <th>delayed healing</th>\n",
              "      <th>partial paresis</th>\n",
              "      <th>muscle stiffness</th>\n",
              "      <th>Alopecia</th>\n",
              "      <th>Obesity</th>\n",
              "      <th>class</th>\n",
              "    </tr>\n",
              "  </thead>\n",
              "  <tbody>\n",
              "    <tr>\n",
              "      <th>0</th>\n",
              "      <td>40</td>\n",
              "      <td>Male</td>\n",
              "      <td>No</td>\n",
              "      <td>Yes</td>\n",
              "      <td>No</td>\n",
              "      <td>Yes</td>\n",
              "      <td>No</td>\n",
              "      <td>No</td>\n",
              "      <td>No</td>\n",
              "      <td>Yes</td>\n",
              "      <td>No</td>\n",
              "      <td>Yes</td>\n",
              "      <td>No</td>\n",
              "      <td>Yes</td>\n",
              "      <td>Yes</td>\n",
              "      <td>Yes</td>\n",
              "      <td>Positive</td>\n",
              "    </tr>\n",
              "    <tr>\n",
              "      <th>1</th>\n",
              "      <td>58</td>\n",
              "      <td>Male</td>\n",
              "      <td>No</td>\n",
              "      <td>No</td>\n",
              "      <td>No</td>\n",
              "      <td>Yes</td>\n",
              "      <td>No</td>\n",
              "      <td>No</td>\n",
              "      <td>Yes</td>\n",
              "      <td>No</td>\n",
              "      <td>No</td>\n",
              "      <td>No</td>\n",
              "      <td>Yes</td>\n",
              "      <td>No</td>\n",
              "      <td>Yes</td>\n",
              "      <td>No</td>\n",
              "      <td>Positive</td>\n",
              "    </tr>\n",
              "    <tr>\n",
              "      <th>2</th>\n",
              "      <td>41</td>\n",
              "      <td>Male</td>\n",
              "      <td>Yes</td>\n",
              "      <td>No</td>\n",
              "      <td>No</td>\n",
              "      <td>Yes</td>\n",
              "      <td>Yes</td>\n",
              "      <td>No</td>\n",
              "      <td>No</td>\n",
              "      <td>Yes</td>\n",
              "      <td>No</td>\n",
              "      <td>Yes</td>\n",
              "      <td>No</td>\n",
              "      <td>Yes</td>\n",
              "      <td>Yes</td>\n",
              "      <td>No</td>\n",
              "      <td>Positive</td>\n",
              "    </tr>\n",
              "    <tr>\n",
              "      <th>3</th>\n",
              "      <td>45</td>\n",
              "      <td>Male</td>\n",
              "      <td>No</td>\n",
              "      <td>No</td>\n",
              "      <td>Yes</td>\n",
              "      <td>Yes</td>\n",
              "      <td>Yes</td>\n",
              "      <td>Yes</td>\n",
              "      <td>No</td>\n",
              "      <td>Yes</td>\n",
              "      <td>No</td>\n",
              "      <td>Yes</td>\n",
              "      <td>No</td>\n",
              "      <td>No</td>\n",
              "      <td>No</td>\n",
              "      <td>No</td>\n",
              "      <td>Positive</td>\n",
              "    </tr>\n",
              "    <tr>\n",
              "      <th>4</th>\n",
              "      <td>60</td>\n",
              "      <td>Male</td>\n",
              "      <td>Yes</td>\n",
              "      <td>Yes</td>\n",
              "      <td>Yes</td>\n",
              "      <td>Yes</td>\n",
              "      <td>Yes</td>\n",
              "      <td>No</td>\n",
              "      <td>Yes</td>\n",
              "      <td>Yes</td>\n",
              "      <td>Yes</td>\n",
              "      <td>Yes</td>\n",
              "      <td>Yes</td>\n",
              "      <td>Yes</td>\n",
              "      <td>Yes</td>\n",
              "      <td>Yes</td>\n",
              "      <td>Positive</td>\n",
              "    </tr>\n",
              "  </tbody>\n",
              "</table>\n",
              "</div>"
            ],
            "text/plain": [
              "   Age Gender Polyuria Polydipsia  ... muscle stiffness Alopecia Obesity     class\n",
              "0   40   Male       No        Yes  ...              Yes      Yes     Yes  Positive\n",
              "1   58   Male       No         No  ...               No      Yes      No  Positive\n",
              "2   41   Male      Yes         No  ...              Yes      Yes      No  Positive\n",
              "3   45   Male       No         No  ...               No       No      No  Positive\n",
              "4   60   Male      Yes        Yes  ...              Yes      Yes     Yes  Positive\n",
              "\n",
              "[5 rows x 17 columns]"
            ]
          },
          "metadata": {
            "tags": []
          },
          "execution_count": 13
        }
      ]
    },
    {
      "cell_type": "code",
      "metadata": {
        "id": "-ZHgk5JKBzWu",
        "colab_type": "code",
        "colab": {
          "base_uri": "https://localhost:8080/",
          "height": 237
        },
        "outputId": "56826576-0884-49e1-a961-c140209a03ae"
      },
      "source": [
        "data.insert(0, \"w0\" ,1 )\n",
        "data.head()"
      ],
      "execution_count": 14,
      "outputs": [
        {
          "output_type": "execute_result",
          "data": {
            "text/html": [
              "<div>\n",
              "<style scoped>\n",
              "    .dataframe tbody tr th:only-of-type {\n",
              "        vertical-align: middle;\n",
              "    }\n",
              "\n",
              "    .dataframe tbody tr th {\n",
              "        vertical-align: top;\n",
              "    }\n",
              "\n",
              "    .dataframe thead th {\n",
              "        text-align: right;\n",
              "    }\n",
              "</style>\n",
              "<table border=\"1\" class=\"dataframe\">\n",
              "  <thead>\n",
              "    <tr style=\"text-align: right;\">\n",
              "      <th></th>\n",
              "      <th>w0</th>\n",
              "      <th>Age</th>\n",
              "      <th>Gender</th>\n",
              "      <th>Polyuria</th>\n",
              "      <th>Polydipsia</th>\n",
              "      <th>sudden weight loss</th>\n",
              "      <th>weakness</th>\n",
              "      <th>Polyphagia</th>\n",
              "      <th>Genital thrush</th>\n",
              "      <th>visual blurring</th>\n",
              "      <th>Itching</th>\n",
              "      <th>Irritability</th>\n",
              "      <th>delayed healing</th>\n",
              "      <th>partial paresis</th>\n",
              "      <th>muscle stiffness</th>\n",
              "      <th>Alopecia</th>\n",
              "      <th>Obesity</th>\n",
              "      <th>class</th>\n",
              "    </tr>\n",
              "  </thead>\n",
              "  <tbody>\n",
              "    <tr>\n",
              "      <th>0</th>\n",
              "      <td>1</td>\n",
              "      <td>40</td>\n",
              "      <td>Male</td>\n",
              "      <td>No</td>\n",
              "      <td>Yes</td>\n",
              "      <td>No</td>\n",
              "      <td>Yes</td>\n",
              "      <td>No</td>\n",
              "      <td>No</td>\n",
              "      <td>No</td>\n",
              "      <td>Yes</td>\n",
              "      <td>No</td>\n",
              "      <td>Yes</td>\n",
              "      <td>No</td>\n",
              "      <td>Yes</td>\n",
              "      <td>Yes</td>\n",
              "      <td>Yes</td>\n",
              "      <td>Positive</td>\n",
              "    </tr>\n",
              "    <tr>\n",
              "      <th>1</th>\n",
              "      <td>1</td>\n",
              "      <td>58</td>\n",
              "      <td>Male</td>\n",
              "      <td>No</td>\n",
              "      <td>No</td>\n",
              "      <td>No</td>\n",
              "      <td>Yes</td>\n",
              "      <td>No</td>\n",
              "      <td>No</td>\n",
              "      <td>Yes</td>\n",
              "      <td>No</td>\n",
              "      <td>No</td>\n",
              "      <td>No</td>\n",
              "      <td>Yes</td>\n",
              "      <td>No</td>\n",
              "      <td>Yes</td>\n",
              "      <td>No</td>\n",
              "      <td>Positive</td>\n",
              "    </tr>\n",
              "    <tr>\n",
              "      <th>2</th>\n",
              "      <td>1</td>\n",
              "      <td>41</td>\n",
              "      <td>Male</td>\n",
              "      <td>Yes</td>\n",
              "      <td>No</td>\n",
              "      <td>No</td>\n",
              "      <td>Yes</td>\n",
              "      <td>Yes</td>\n",
              "      <td>No</td>\n",
              "      <td>No</td>\n",
              "      <td>Yes</td>\n",
              "      <td>No</td>\n",
              "      <td>Yes</td>\n",
              "      <td>No</td>\n",
              "      <td>Yes</td>\n",
              "      <td>Yes</td>\n",
              "      <td>No</td>\n",
              "      <td>Positive</td>\n",
              "    </tr>\n",
              "    <tr>\n",
              "      <th>3</th>\n",
              "      <td>1</td>\n",
              "      <td>45</td>\n",
              "      <td>Male</td>\n",
              "      <td>No</td>\n",
              "      <td>No</td>\n",
              "      <td>Yes</td>\n",
              "      <td>Yes</td>\n",
              "      <td>Yes</td>\n",
              "      <td>Yes</td>\n",
              "      <td>No</td>\n",
              "      <td>Yes</td>\n",
              "      <td>No</td>\n",
              "      <td>Yes</td>\n",
              "      <td>No</td>\n",
              "      <td>No</td>\n",
              "      <td>No</td>\n",
              "      <td>No</td>\n",
              "      <td>Positive</td>\n",
              "    </tr>\n",
              "    <tr>\n",
              "      <th>4</th>\n",
              "      <td>1</td>\n",
              "      <td>60</td>\n",
              "      <td>Male</td>\n",
              "      <td>Yes</td>\n",
              "      <td>Yes</td>\n",
              "      <td>Yes</td>\n",
              "      <td>Yes</td>\n",
              "      <td>Yes</td>\n",
              "      <td>No</td>\n",
              "      <td>Yes</td>\n",
              "      <td>Yes</td>\n",
              "      <td>Yes</td>\n",
              "      <td>Yes</td>\n",
              "      <td>Yes</td>\n",
              "      <td>Yes</td>\n",
              "      <td>Yes</td>\n",
              "      <td>Yes</td>\n",
              "      <td>Positive</td>\n",
              "    </tr>\n",
              "  </tbody>\n",
              "</table>\n",
              "</div>"
            ],
            "text/plain": [
              "   w0  Age Gender Polyuria  ... muscle stiffness Alopecia Obesity     class\n",
              "0   1   40   Male       No  ...              Yes      Yes     Yes  Positive\n",
              "1   1   58   Male       No  ...               No      Yes      No  Positive\n",
              "2   1   41   Male      Yes  ...              Yes      Yes      No  Positive\n",
              "3   1   45   Male       No  ...               No       No      No  Positive\n",
              "4   1   60   Male      Yes  ...              Yes      Yes     Yes  Positive\n",
              "\n",
              "[5 rows x 18 columns]"
            ]
          },
          "metadata": {
            "tags": []
          },
          "execution_count": 14
        }
      ]
    },
    {
      "cell_type": "code",
      "metadata": {
        "id": "DOfry5-vBzW5",
        "colab_type": "code",
        "colab": {
          "base_uri": "https://localhost:8080/",
          "height": 104
        },
        "outputId": "4b767b47-6d00-47c3-87ff-de714c7d676c"
      },
      "source": [
        "data.columns"
      ],
      "execution_count": 12,
      "outputs": [
        {
          "output_type": "execute_result",
          "data": {
            "text/plain": [
              "Index(['w0', 'Age', 'Gender', 'Polyuria', 'Polydipsia', 'sudden weight loss',\n",
              "       'weakness', 'Polyphagia', 'Genital thrush', 'visual blurring',\n",
              "       'Itching', 'Irritability', 'delayed healing', 'partial paresis',\n",
              "       'muscle stiffness', 'Alopecia', 'Obesity', 'class'],\n",
              "      dtype='object')"
            ]
          },
          "metadata": {
            "tags": []
          },
          "execution_count": 12
        }
      ]
    },
    {
      "cell_type": "code",
      "metadata": {
        "colab_type": "code",
        "id": "hjCRzhp_f_Kw",
        "colab": {}
      },
      "source": [
        "# Handle categorical/binary columns"
      ],
      "execution_count": null,
      "outputs": []
    },
    {
      "cell_type": "code",
      "metadata": {
        "id": "2yU8lcaGvOrt",
        "colab_type": "code",
        "colab": {}
      },
      "source": [
        "yes_no_columns = [c for c in data.columns if c not in ['intercept','Age','Gender','class']]"
      ],
      "execution_count": 15,
      "outputs": []
    },
    {
      "cell_type": "code",
      "metadata": {
        "id": "R1_4L2fAvccH",
        "colab_type": "code",
        "colab": {}
      },
      "source": [
        "data[yes_no_columns] = pd.DataFrame(np.where(data[yes_no_columns].values=='Yes',1,0),data.index)"
      ],
      "execution_count": 16,
      "outputs": []
    },
    {
      "cell_type": "code",
      "metadata": {
        "id": "M_Chx0i1vxe9",
        "colab_type": "code",
        "colab": {}
      },
      "source": [
        "data['Gender'] = data['Gender'].map(dict(Female=1,Male=0))\n",
        "data['class'] = data['class'].map(dict(Positive=1,Negative=0))\n"
      ],
      "execution_count": 17,
      "outputs": []
    },
    {
      "cell_type": "markdown",
      "metadata": {
        "id": "vdpp_z5Cwmo8",
        "colab_type": "text"
      },
      "source": [
        "Normalized Age column"
      ]
    },
    {
      "cell_type": "code",
      "metadata": {
        "id": "dkkFBn7nwOMz",
        "colab_type": "code",
        "colab": {}
      },
      "source": [
        "data['Age'] = MinMaxScaler().fit_transform(data[['Age']])"
      ],
      "execution_count": 19,
      "outputs": []
    },
    {
      "cell_type": "code",
      "metadata": {
        "id": "xibFUlI3weo8",
        "colab_type": "code",
        "colab": {
          "base_uri": "https://localhost:8080/",
          "height": 237
        },
        "outputId": "bcff0ab6-68b0-44f4-c762-ca8ae4433b31"
      },
      "source": [
        "data.head()"
      ],
      "execution_count": 20,
      "outputs": [
        {
          "output_type": "execute_result",
          "data": {
            "text/html": [
              "<div>\n",
              "<style scoped>\n",
              "    .dataframe tbody tr th:only-of-type {\n",
              "        vertical-align: middle;\n",
              "    }\n",
              "\n",
              "    .dataframe tbody tr th {\n",
              "        vertical-align: top;\n",
              "    }\n",
              "\n",
              "    .dataframe thead th {\n",
              "        text-align: right;\n",
              "    }\n",
              "</style>\n",
              "<table border=\"1\" class=\"dataframe\">\n",
              "  <thead>\n",
              "    <tr style=\"text-align: right;\">\n",
              "      <th></th>\n",
              "      <th>w0</th>\n",
              "      <th>Age</th>\n",
              "      <th>Gender</th>\n",
              "      <th>Polyuria</th>\n",
              "      <th>Polydipsia</th>\n",
              "      <th>sudden weight loss</th>\n",
              "      <th>weakness</th>\n",
              "      <th>Polyphagia</th>\n",
              "      <th>Genital thrush</th>\n",
              "      <th>visual blurring</th>\n",
              "      <th>Itching</th>\n",
              "      <th>Irritability</th>\n",
              "      <th>delayed healing</th>\n",
              "      <th>partial paresis</th>\n",
              "      <th>muscle stiffness</th>\n",
              "      <th>Alopecia</th>\n",
              "      <th>Obesity</th>\n",
              "      <th>class</th>\n",
              "    </tr>\n",
              "  </thead>\n",
              "  <tbody>\n",
              "    <tr>\n",
              "      <th>0</th>\n",
              "      <td>0</td>\n",
              "      <td>0.324324</td>\n",
              "      <td>0</td>\n",
              "      <td>0</td>\n",
              "      <td>1</td>\n",
              "      <td>0</td>\n",
              "      <td>1</td>\n",
              "      <td>0</td>\n",
              "      <td>0</td>\n",
              "      <td>0</td>\n",
              "      <td>1</td>\n",
              "      <td>0</td>\n",
              "      <td>1</td>\n",
              "      <td>0</td>\n",
              "      <td>1</td>\n",
              "      <td>1</td>\n",
              "      <td>1</td>\n",
              "      <td>1</td>\n",
              "    </tr>\n",
              "    <tr>\n",
              "      <th>1</th>\n",
              "      <td>0</td>\n",
              "      <td>0.567568</td>\n",
              "      <td>0</td>\n",
              "      <td>0</td>\n",
              "      <td>0</td>\n",
              "      <td>0</td>\n",
              "      <td>1</td>\n",
              "      <td>0</td>\n",
              "      <td>0</td>\n",
              "      <td>1</td>\n",
              "      <td>0</td>\n",
              "      <td>0</td>\n",
              "      <td>0</td>\n",
              "      <td>1</td>\n",
              "      <td>0</td>\n",
              "      <td>1</td>\n",
              "      <td>0</td>\n",
              "      <td>1</td>\n",
              "    </tr>\n",
              "    <tr>\n",
              "      <th>2</th>\n",
              "      <td>0</td>\n",
              "      <td>0.337838</td>\n",
              "      <td>0</td>\n",
              "      <td>1</td>\n",
              "      <td>0</td>\n",
              "      <td>0</td>\n",
              "      <td>1</td>\n",
              "      <td>1</td>\n",
              "      <td>0</td>\n",
              "      <td>0</td>\n",
              "      <td>1</td>\n",
              "      <td>0</td>\n",
              "      <td>1</td>\n",
              "      <td>0</td>\n",
              "      <td>1</td>\n",
              "      <td>1</td>\n",
              "      <td>0</td>\n",
              "      <td>1</td>\n",
              "    </tr>\n",
              "    <tr>\n",
              "      <th>3</th>\n",
              "      <td>0</td>\n",
              "      <td>0.391892</td>\n",
              "      <td>0</td>\n",
              "      <td>0</td>\n",
              "      <td>0</td>\n",
              "      <td>1</td>\n",
              "      <td>1</td>\n",
              "      <td>1</td>\n",
              "      <td>1</td>\n",
              "      <td>0</td>\n",
              "      <td>1</td>\n",
              "      <td>0</td>\n",
              "      <td>1</td>\n",
              "      <td>0</td>\n",
              "      <td>0</td>\n",
              "      <td>0</td>\n",
              "      <td>0</td>\n",
              "      <td>1</td>\n",
              "    </tr>\n",
              "    <tr>\n",
              "      <th>4</th>\n",
              "      <td>0</td>\n",
              "      <td>0.594595</td>\n",
              "      <td>0</td>\n",
              "      <td>1</td>\n",
              "      <td>1</td>\n",
              "      <td>1</td>\n",
              "      <td>1</td>\n",
              "      <td>1</td>\n",
              "      <td>0</td>\n",
              "      <td>1</td>\n",
              "      <td>1</td>\n",
              "      <td>1</td>\n",
              "      <td>1</td>\n",
              "      <td>1</td>\n",
              "      <td>1</td>\n",
              "      <td>1</td>\n",
              "      <td>1</td>\n",
              "      <td>1</td>\n",
              "    </tr>\n",
              "  </tbody>\n",
              "</table>\n",
              "</div>"
            ],
            "text/plain": [
              "   w0       Age  Gender  Polyuria  ...  muscle stiffness  Alopecia  Obesity  class\n",
              "0   0  0.324324       0         0  ...                 1         1        1      1\n",
              "1   0  0.567568       0         0  ...                 0         1        0      1\n",
              "2   0  0.337838       0         1  ...                 1         1        0      1\n",
              "3   0  0.391892       0         0  ...                 0         0        0      1\n",
              "4   0  0.594595       0         1  ...                 1         1        1      1\n",
              "\n",
              "[5 rows x 18 columns]"
            ]
          },
          "metadata": {
            "tags": []
          },
          "execution_count": 20
        }
      ]
    },
    {
      "cell_type": "code",
      "metadata": {
        "colab_type": "code",
        "id": "0Uc-BEzqf_K-",
        "colab": {}
      },
      "source": [
        "# Define your X and y\n",
        "X = data.loc[:, data.columns != 'class'].values\n",
        "y = data['class'].values"
      ],
      "execution_count": 21,
      "outputs": []
    },
    {
      "cell_type": "code",
      "metadata": {
        "colab_type": "code",
        "id": "DIiMrIaajX-Q",
        "colab": {}
      },
      "source": [
        "# Split the dataset into training and testing here\n",
        "X_train, X_test, y_train, y_test = train_test_split(X, y, test_size=0.4)"
      ],
      "execution_count": 22,
      "outputs": []
    },
    {
      "cell_type": "code",
      "metadata": {
        "id": "1YEJhr2MBzXx",
        "colab_type": "code",
        "colab": {}
      },
      "source": [
        "def predict(X, weights):\n",
        "    '''Predict class for X.\n",
        "    For the given dataset, predicted vector has only values 0/1\n",
        "    Args:\n",
        "        X : Numpy array (num_samples, num_features)\n",
        "        weights : Model weights for logistic regression\n",
        "    Returns:\n",
        "        Binary predictions : (num_samples,)\n",
        "    '''\n",
        "\n",
        "    ### START CODE HERE ###\n",
        "    z = np.dot(X,weights)\n",
        "    logits = sigmoid(z)\n",
        "    y_pred = logits.round()\n",
        "    ### END CODE HERE ###\n",
        "    \n",
        "    return y_pred"
      ],
      "execution_count": 24,
      "outputs": []
    },
    {
      "cell_type": "code",
      "metadata": {
        "id": "QfkyUKcoBzX2",
        "colab_type": "code",
        "colab": {}
      },
      "source": [
        "def sigmoid(z):\n",
        "        '''Sigmoid function: f:R->(0,1)\n",
        "        Args:\n",
        "            z : A numpy array (num_samples,)\n",
        "        Returns:\n",
        "            A numpy array where sigmoid function applied to every element\n",
        "        '''\n",
        "        ### START CODE HERE\n",
        "        sig_z = 1/(1 + np.exp(-z))\n",
        "        ### END CODE HERE\n",
        "        \n",
        "        assert (z.shape==sig_z.shape), 'Error in sigmoid implementation. Check carefully'\n",
        "        return sig_z"
      ],
      "execution_count": 25,
      "outputs": []
    },
    {
      "cell_type": "code",
      "metadata": {
        "id": "Szm8-w3DBzX9",
        "colab_type": "code",
        "colab": {}
      },
      "source": [
        "def cross_entropy_loss(y_true, y_pred):\n",
        "    '''Calculate cross entropy loss\n",
        "    Note: Cross entropy is defined for multiple classes/labels as well\n",
        "    but for this dataset we only need binary cross entropy loss\n",
        "    Args:\n",
        "        y_true : Numpy array of true values (0/1) of size (num_samples,)\n",
        "        y_pred : Numpy array of predicted values (probabilites) of size (num_samples,)\n",
        "    Returns:\n",
        "        Cross entropy loss: A scalar value\n",
        "    '''\n",
        "    # Fix 0 values in y_pred\n",
        "    y_pred = np.maximum(np.full(y_pred.shape, 1e-7), np.minimum(np.full(y_pred.shape, 1-1e-7), y_pred))\n",
        "    \n",
        "    ### START CODE HERE\n",
        "    ce_loss = np.sum(-y_true*np.log(y_pred) - (1-y_true)*np.log(1-y_pred))\n",
        "    ### END CODE HERE\n",
        "    \n",
        "    return ce_loss"
      ],
      "execution_count": 26,
      "outputs": []
    },
    {
      "cell_type": "code",
      "metadata": {
        "id": "nfOfex7NBzYD",
        "colab_type": "code",
        "colab": {}
      },
      "source": [
        "def newton_optimization(X, y, max_iterations=15):\n",
        "    '''Implement netwon method for optimizing weights\n",
        "    Args:\n",
        "        X : Numpy array (num_samples, num_features)\n",
        "        max_iterations : Max iterations to update the weights\n",
        "    Returns:\n",
        "        Optimal weights (num_features,)\n",
        "    '''\n",
        "    num_samples = X.shape[0]\n",
        "    num_features = X.shape[1]\n",
        "    # Initialize random weights\n",
        "    weights = np.zeros(num_features,)\n",
        "    # Initialize losses\n",
        "    losses = []\n",
        "    \n",
        "    # Newton Method\n",
        "    for i in range(max_iterations):\n",
        "        \n",
        "        # Predict/Calculate probabilties using sigmoid function\n",
        "        y_p = sigmoid(np.dot(X,weights))\n",
        "        \n",
        "        #cost function\n",
        "        \n",
        "        # Define gradient for J (cost function) i.e. cross entropy loss\n",
        "        gradient = (1/num_samples)* np.dot(X.T,(y_p-y))\n",
        "        \n",
        "        # Define hessian matrix for cross entropy loss\n",
        "        hessian= (1/num_samples)* X.T.dot(np.diag(y_p*(1-y_p))).dot(X)\n",
        "        \n",
        "        # Update the model using hessian matrix and gradient computed\n",
        "        weights = weights - np.dot(np.linalg.pinv(hessian),gradient)\n",
        "        \n",
        "        # Calculate cross entropy loss\n",
        "        loss = cross_entropy_loss(y, y_p)\n",
        "        # Append it\n",
        "        losses.append(loss)\n",
        "\n",
        "    return weights, losses"
      ],
      "execution_count": 27,
      "outputs": []
    },
    {
      "cell_type": "code",
      "metadata": {
        "id": "KC8YotdnBzYH",
        "colab_type": "code",
        "colab": {}
      },
      "source": [
        "# Train weights\n",
        "weights, losses = newton_optimization(X_train, y_train)"
      ],
      "execution_count": 28,
      "outputs": []
    },
    {
      "cell_type": "code",
      "metadata": {
        "id": "hwKB7A8CBzYV",
        "colab_type": "code",
        "colab": {
          "base_uri": "https://localhost:8080/",
          "height": 294
        },
        "outputId": "40083dfd-1330-45c4-be63-9bebccfa935d"
      },
      "source": [
        "# Plot the loss curve\n",
        "plt.plot([i+1 for i in range(len(losses))], losses)\n",
        "plt.title(\"Loss curve\")\n",
        "plt.xlabel(\"Iteration num\")\n",
        "plt.ylabel(\"Cross entropy curve\")\n",
        "plt.show()"
      ],
      "execution_count": 34,
      "outputs": [
        {
          "output_type": "display_data",
          "data": {
            "image/png": "[encoded data removed]",
            "text/plain": [
              "<Figure size 432x288 with 1 Axes>"
            ]
          },
          "metadata": {
            "tags": [],
            "needs_background": "light"
          }
        }
      ]
    },
    {
      "cell_type": "code",
      "metadata": {
        "id": "IzbnyJPZBzYd",
        "colab_type": "code",
        "colab": {
          "base_uri": "https://localhost:8080/",
          "height": 52
        },
        "outputId": "2a375efc-6469-4019-a297-6a77fab60b90"
      },
      "source": [
        "our_model_test_acuracy = accuracy_score(y_test, predict(X_test, weights))\n",
        "\n",
        "print(f\"\\nAccuracy in testing set by our model: {our_model_test_acuracy}\")"
      ],
      "execution_count": 35,
      "outputs": [
        {
          "output_type": "stream",
          "text": [
            "\n",
            "Accuracy in testing set by our model: 0.9375\n"
          ],
          "name": "stdout"
        }
      ]
    },
    {
      "cell_type": "markdown",
      "metadata": {
        "id": "1W2b_E_gBzYj",
        "colab_type": "text"
      },
      "source": [
        "#### Compare with the scikit learn implementation"
      ]
    },
    {
      "cell_type": "code",
      "metadata": {
        "colab_type": "code",
        "id": "Qhvibx3Xf_LB",
        "colab": {}
      },
      "source": [
        "# Initialize the model\n",
        "model = LogisticRegression(solver='newton-cg', verbose=1)"
      ],
      "execution_count": 36,
      "outputs": []
    },
    {
      "cell_type": "code",
      "metadata": {
        "colab_type": "code",
        "id": "ndXHgNLxf_LD",
        "colab": {
          "base_uri": "https://localhost:8080/",
          "height": 138
        },
        "outputId": "138a0bef-f880-4f69-ecd6-602cc630e306"
      },
      "source": [
        "# Fit the model. Wait! We will complete this step for you ;)\n",
        "model.fit(X_train, y_train)"
      ],
      "execution_count": 37,
      "outputs": [
        {
          "output_type": "stream",
          "text": [
            "[Parallel(n_jobs=1)]: Using backend SequentialBackend with 1 concurrent workers.\n",
            "[Parallel(n_jobs=1)]: Done   1 out of   1 | elapsed:    0.0s finished\n"
          ],
          "name": "stderr"
        },
        {
          "output_type": "execute_result",
          "data": {
            "text/plain": [
              "LogisticRegression(C=1.0, class_weight=None, dual=False, fit_intercept=True,\n",
              "                   intercept_scaling=1, l1_ratio=None, max_iter=100,\n",
              "                   multi_class='auto', n_jobs=None, penalty='l2',\n",
              "                   random_state=None, solver='newton-cg', tol=0.0001, verbose=1,\n",
              "                   warm_start=False)"
            ]
          },
          "metadata": {
            "tags": []
          },
          "execution_count": 37
        }
      ]
    },
    {
      "cell_type": "code",
      "metadata": {
        "colab_type": "code",
        "id": "oHOeLfjFjeNh",
        "colab": {}
      },
      "source": [
        "# Predict on testing set X_test\n",
        "y_pred = model.predict(X_test)"
      ],
      "execution_count": 38,
      "outputs": []
    },
    {
      "cell_type": "code",
      "metadata": {
        "colab_type": "code",
        "id": "eE5g0uoYf_LG",
        "colab": {
          "base_uri": "https://localhost:8080/",
          "height": 52
        },
        "outputId": "263ef81d-068f-4b71-d0d8-0b0fb5427ec7"
      },
      "source": [
        "# Print Accuracy on testing set\n",
        "sklearn_test_accuracy = accuracy_score(y_test, y_pred)\n",
        "\n",
        "print(f\"\\nAccuracy in testing set by sklearn model: {sklearn_test_accuracy}\")"
      ],
      "execution_count": 39,
      "outputs": [
        {
          "output_type": "stream",
          "text": [
            "\n",
            "Accuracy in testing set by sklearn model: 0.9230769230769231\n"
          ],
          "name": "stdout"
        }
      ]
    },
    {
      "cell_type": "code",
      "metadata": {
        "id": "_TjEqw6102nY",
        "colab_type": "code",
        "colab": {}
      },
      "source": [
        ""
      ],
      "execution_count": null,
      "outputs": []
    }
  ]
}