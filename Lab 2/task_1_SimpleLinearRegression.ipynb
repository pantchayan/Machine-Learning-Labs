{
  "nbformat": 4,
  "nbformat_minor": 0,
  "metadata": {
    "kernelspec": {
      "display_name": "Python 3",
      "language": "python",
      "name": "python3"
    },
    "language_info": {
      "codemirror_mode": {
        "name": "ipython",
        "version": 3
      },
      "file_extension": ".py",
      "mimetype": "text/x-python",
      "name": "python",
      "nbconvert_exporter": "python",
      "pygments_lexer": "ipython3",
      "version": "3.7.3"
    },
    "toc": {
      "base_numbering": 1,
      "nav_menu": {},
      "number_sections": true,
      "sideBar": true,
      "skip_h1_title": false,
      "title_cell": "Table of Contents",
      "title_sidebar": "Contents",
      "toc_cell": false,
      "toc_position": {},
      "toc_section_display": true,
      "toc_window_display": false
    },
    "colab": {
      "name": "task_1_simple.ipynb",
      "provenance": [],
      "toc_visible": true
    }
  },
  "cells": [
    {
      "cell_type": "markdown",
      "metadata": {
        "id": "fw7dxQwIR8xN",
        "colab_type": "text"
      },
      "source": [
        "### Simple Linear Regression\n",
        "Linear regression is among the simplest regression methods. One of the main advantages of using it is ease of interpreting results. Simple linear regression is special case of regression where target feature is dependent on single variable, and then we find the best fitting line.<br>\n",
        "\n",
        "##### y = m*x + c <br>\n",
        "\n",
        "#### Dataset\n",
        "The dataset is available at __\"data/simple_linear_data.csv\"__ in the respective challenge's repo.<br><br>\n",
        "This is the modified version of the dataset 'Student Performance' provided by UCI Machine Learning repository.<br>\n",
        "Original dataset: https://archive.ics.uci.edu/ml/datasets/student+performance\n",
        "\n",
        "#### Features (X)\n",
        "- G2 - second year math grades (numeric: from 0 to 100)\n",
        "\n",
        "#### Target (y)\n",
        "- G3 - third year math grades (numeric: from 0 to 100, output target)\n",
        "\n",
        "#### Objective\n",
        "To gain understanding of single linear regression through implementing the model from scratch\n",
        "\n",
        "#### Tasks\n",
        "- Read the data from above mentioned dataset and define X and y as numpy array\n",
        "- Add column at position 0 with all values=1 (pandas.DataFrame.insert function)\n",
        "- Print rows from 40 to 55.\n",
        "- Print the shape and datatype of both X and y\n",
        "- Follow code cells to implement simple linear regression from scratch\n",
        "    - Write hypothesis function to predict values\n",
        "    - Write function for calculating mean_squared_error\n",
        "    - Write function to return gradients for given weights\n",
        "    - Perform gradient descent taking help of above functions\n",
        "\n",
        "#### Further Fun (will not be evaluated\n",
        "- Remove outliers, train again and see the difference in error.\n",
        "```python\n",
        "# Add this line before defining X and y\n",
        "data = data[(data['G3']!=0)|((data['G2']==0)&(data['G3']==0))]\n",
        "```\n",
        "- Replace \"*weights = np.random.rand(2)*\" line in gradient descent with below line, train again and visualize results.\n",
        "```python\n",
        "# Replace above line with following in gradient descent function\n",
        "weights = np.zeros(2,)\n",
        "```\n",
        "- Play with learning rate and max_iterations\n",
        "- Generalize the code for multivariate(multiple) linear regression\n",
        "\n",
        "#### Resources\n",
        "- Linear regression maths: https://www.youtube.com/watch?v=ZkjP5RJLQF4\n",
        "- Simple linear regression: https://www.youtube.com/watch?v=iAgYLRy7e20\n",
        "- Tutorial: https://machinelearningmastery.com/implement-simple-linear-regression-scratch-python\n"
      ]
    },
    {
      "cell_type": "code",
      "metadata": {
        "id": "a0p2axIkR8xO",
        "colab_type": "code",
        "colab": {}
      },
      "source": [
        "import numpy as np\n",
        "import matplotlib.pyplot as plt\n",
        "import pandas as pd"
      ],
      "execution_count": 1,
      "outputs": []
    },
    {
      "cell_type": "code",
      "metadata": {
        "id": "iXJstgD-R8xS",
        "colab_type": "code",
        "colab": {
          "base_uri": "https://localhost:8080/",
          "height": 416
        },
        "outputId": "12136259-972b-4844-f605-3931fb200630"
      },
      "source": [
        "# Read the data from provided dir\n",
        "data = pd.read_csv('simple_linear_data.csv')\n",
        "data"
      ],
      "execution_count": 3,
      "outputs": [
        {
          "output_type": "execute_result",
          "data": {
            "text/html": [
              "<div>\n",
              "<style scoped>\n",
              "    .dataframe tbody tr th:only-of-type {\n",
              "        vertical-align: middle;\n",
              "    }\n",
              "\n",
              "    .dataframe tbody tr th {\n",
              "        vertical-align: top;\n",
              "    }\n",
              "\n",
              "    .dataframe thead th {\n",
              "        text-align: right;\n",
              "    }\n",
              "</style>\n",
              "<table border=\"1\" class=\"dataframe\">\n",
              "  <thead>\n",
              "    <tr style=\"text-align: right;\">\n",
              "      <th></th>\n",
              "      <th>G2</th>\n",
              "      <th>G3</th>\n",
              "    </tr>\n",
              "  </thead>\n",
              "  <tbody>\n",
              "    <tr>\n",
              "      <th>0</th>\n",
              "      <td>30</td>\n",
              "      <td>30</td>\n",
              "    </tr>\n",
              "    <tr>\n",
              "      <th>1</th>\n",
              "      <td>25</td>\n",
              "      <td>30</td>\n",
              "    </tr>\n",
              "    <tr>\n",
              "      <th>2</th>\n",
              "      <td>40</td>\n",
              "      <td>50</td>\n",
              "    </tr>\n",
              "    <tr>\n",
              "      <th>3</th>\n",
              "      <td>70</td>\n",
              "      <td>75</td>\n",
              "    </tr>\n",
              "    <tr>\n",
              "      <th>4</th>\n",
              "      <td>50</td>\n",
              "      <td>50</td>\n",
              "    </tr>\n",
              "    <tr>\n",
              "      <th>...</th>\n",
              "      <td>...</td>\n",
              "      <td>...</td>\n",
              "    </tr>\n",
              "    <tr>\n",
              "      <th>390</th>\n",
              "      <td>45</td>\n",
              "      <td>45</td>\n",
              "    </tr>\n",
              "    <tr>\n",
              "      <th>391</th>\n",
              "      <td>80</td>\n",
              "      <td>80</td>\n",
              "    </tr>\n",
              "    <tr>\n",
              "      <th>392</th>\n",
              "      <td>40</td>\n",
              "      <td>35</td>\n",
              "    </tr>\n",
              "    <tr>\n",
              "      <th>393</th>\n",
              "      <td>60</td>\n",
              "      <td>50</td>\n",
              "    </tr>\n",
              "    <tr>\n",
              "      <th>394</th>\n",
              "      <td>45</td>\n",
              "      <td>45</td>\n",
              "    </tr>\n",
              "  </tbody>\n",
              "</table>\n",
              "<p>395 rows × 2 columns</p>\n",
              "</div>"
            ],
            "text/plain": [
              "     G2  G3\n",
              "0    30  30\n",
              "1    25  30\n",
              "2    40  50\n",
              "3    70  75\n",
              "4    50  50\n",
              "..   ..  ..\n",
              "390  45  45\n",
              "391  80  80\n",
              "392  40  35\n",
              "393  60  50\n",
              "394  45  45\n",
              "\n",
              "[395 rows x 2 columns]"
            ]
          },
          "metadata": {
            "tags": []
          },
          "execution_count": 3
        }
      ]
    },
    {
      "cell_type": "code",
      "metadata": {
        "id": "nEQ122-xR8xU",
        "colab_type": "code",
        "colab": {}
      },
      "source": [
        "# Add column which has all 1s\n",
        "# The idea is that weight corresponding to this column is equal to intercept\n",
        "# This way it is efficient and easier to handle the bias/intercept term\n",
        "data.insert(0,'G1',1)"
      ],
      "execution_count": 4,
      "outputs": []
    },
    {
      "cell_type": "code",
      "metadata": {
        "id": "ucnK5wtwR8xa",
        "colab_type": "code",
        "colab": {
          "base_uri": "https://localhost:8080/",
          "height": 329
        },
        "outputId": "25374214-ad25-44b5-b999-4978372dc963"
      },
      "source": [
        "# Print the dataframe rows\n",
        "print(data.shape)\n",
        "print(data.iloc[40:56:])"
      ],
      "execution_count": 5,
      "outputs": [
        {
          "output_type": "stream",
          "text": [
            "(395, 3)\n",
            "    G1  G2   G3\n",
            "40   1  50   55\n",
            "41   1  60   60\n",
            "42   1  90   90\n",
            "43   1  40   55\n",
            "44   1  50   45\n",
            "45   1  40   30\n",
            "46   1  60   55\n",
            "47   1  95  100\n",
            "48   1  75   70\n",
            "49   1  35   35\n",
            "50   1  65   65\n",
            "51   1  65   65\n",
            "52   1  55   50\n",
            "53   1  50   55\n",
            "54   1  65   65\n",
            "55   1  45   50\n"
          ],
          "name": "stdout"
        }
      ]
    },
    {
      "cell_type": "code",
      "metadata": {
        "id": "9Cyp8ap5R8xc",
        "colab_type": "code",
        "colab": {}
      },
      "source": [
        "# Define X (input features) and y (output feature) \n",
        "X = data[['G1','G2']].values\n",
        "y = data['G3'].values"
      ],
      "execution_count": 6,
      "outputs": []
    },
    {
      "cell_type": "code",
      "metadata": {
        "id": "TM_n8485R8xh",
        "colab_type": "code",
        "colab": {
          "base_uri": "https://localhost:8080/",
          "height": 52
        },
        "outputId": "252de0f7-48e6-47c5-8f2f-244b32c85089"
      },
      "source": [
        "X_shape = X.shape\n",
        "X_type  = type(X)\n",
        "y_shape = y.shape\n",
        "y_type  = type(y)\n",
        "print(f'X: Type-{X_type}, Shape-{X_shape}')\n",
        "print(f'y: Type-{y_type}, Shape-{y_shape}')"
      ],
      "execution_count": 7,
      "outputs": [
        {
          "output_type": "stream",
          "text": [
            "X: Type-<class 'numpy.ndarray'>, Shape-(395, 2)\n",
            "y: Type-<class 'numpy.ndarray'>, Shape-(395,)\n"
          ],
          "name": "stdout"
        }
      ]
    },
    {
      "cell_type": "markdown",
      "metadata": {
        "id": "oiUNH8ypR8xj",
        "colab_type": "text"
      },
      "source": [
        "__Expected output__:<br><br>\n",
        "X: Type-<class 'numpy.ndarray'>, Shape-(395,2)<br>\n",
        "y: Type-<class 'numpy.ndarray'>, Shape-(395,)"
      ]
    },
    {
      "cell_type": "markdown",
      "metadata": {
        "id": "aoJjqlUNR8xk",
        "colab_type": "text"
      },
      "source": [
        "Let us visualize the relationship between X and y"
      ]
    },
    {
      "cell_type": "code",
      "metadata": {
        "id": "Fv0mfjy1R8xk",
        "colab_type": "code",
        "colab": {
          "base_uri": "https://localhost:8080/",
          "height": 294
        },
        "outputId": "0264dd3e-02a6-4a44-b7d4-cf9227ec29d7"
      },
      "source": [
        "# DO NOT EDIT THIS CODE CELL\n",
        "plt.scatter(X[:,1],y)\n",
        "plt.title('Relation between second year grades and third year grades')\n",
        "plt.xlabel('G2 (X - Second year grades)')\n",
        "plt.ylabel('G3 (Y - Third year grades)')\n",
        "plt.show()"
      ],
      "execution_count": 8,
      "outputs": [
        {
          "output_type": "display_data",
          "data": {
            "image/png": "[encoded data removed]",
            "text/plain": [
              "<Figure size 432x288 with 1 Axes>"
            ]
          },
          "metadata": {
            "tags": [],
            "needs_background": "light"
          }
        }
      ]
    },
    {
      "cell_type": "markdown",
      "metadata": {
        "id": "pBaT9jwGR8xn",
        "colab_type": "text"
      },
      "source": [
        "##### Let us start implementing linear regression from scratch. Just follow code cells, see hints if required."
      ]
    },
    {
      "cell_type": "code",
      "metadata": {
        "id": "8_y6sdsAR8xo",
        "colab_type": "code",
        "colab": {}
      },
      "source": [
        "def predict(X, weights):\n",
        "    '''\n",
        "    weights   : array (2,1) w0 and w1\n",
        "    X         : array (m,2) x0 (intercept=1) and x1\n",
        "    \n",
        "    Returns predicted y using hyothesis linear function defined by given weights\n",
        "    '''\n",
        "    ### START CODE HERE ###\n",
        "    y_pred = np.dot(X,weights)\n",
        "    ### END CODE HERE ###\n",
        "    \n",
        "    assert (y_pred.shape==(X.shape[0],)), 'Wrong implementation of predict function. Check carefully'\n",
        "    \n",
        "    return y_pred"
      ],
      "execution_count": 9,
      "outputs": []
    },
    {
      "cell_type": "code",
      "metadata": {
        "id": "IqmZWx6MR8xq",
        "colab_type": "code",
        "colab": {}
      },
      "source": [
        "def mean_squared_error(y_true, y_pred) : \n",
        "    '''\n",
        "    y_true : (m,1)\n",
        "    y_pred : (m,1)\n",
        "    \n",
        "    Return the mean squared error\n",
        "    '''\n",
        "    ### START CODE HERE ###\n",
        "    loss = (1/2) * np.mean((y_true - y_pred) ** 2)\n",
        "    ### END CODE HERE ###\n",
        "    \n",
        "    return loss"
      ],
      "execution_count": 10,
      "outputs": []
    },
    {
      "cell_type": "code",
      "metadata": {
        "id": "QW2aCQyuR8xs",
        "colab_type": "code",
        "colab": {}
      },
      "source": [
        "def gradient(X, y_true, y_pred):\n",
        "    '''\n",
        "    X      : array (m,2)\n",
        "    y_true : array (m,1)\n",
        "    y_pred : array (m,1)\n",
        "    \n",
        "    Returns a numpy array with gradients. Shape (2,1)\n",
        "    '''\n",
        "    # Initialize the gradient vector for w0 (intercept/bias) and w1 respectively\n",
        "    grad = np.zeros(2,)\n",
        "    \n",
        "    ### START CODE HERE ###\n",
        "    \n",
        "    grad[0] = np.mean((y_pred - y_true) * X[:,0]) # 1\n",
        "    grad[1] = np.mean((y_pred - y_true) * X[:,1])\n",
        "    \n",
        "    ### END CODE HERE ###\n",
        "    \n",
        "    return grad"
      ],
      "execution_count": 11,
      "outputs": []
    },
    {
      "cell_type": "code",
      "metadata": {
        "id": "TjiM3Zn1R8xw",
        "colab_type": "code",
        "colab": {}
      },
      "source": [
        "def gradient_descent(X, y, learning_rate=0.0001, max_iterations=100):\n",
        "    '''\n",
        "    X              : Array (m,2)\n",
        "    y              : Array (m,1)\n",
        "    learning_rate  : Learning rate\n",
        "    max_iterations : Maximum iteratons\n",
        "    \n",
        "    Returns : weights vector (2,1)\n",
        "            : losses (List)\n",
        "    '''\n",
        "    # Initialise weights vector of random values of size (2,1)\n",
        "    weights = np.random.rand(2)\n",
        "    # Initialize a list to record all the losses \n",
        "    losses  = []\n",
        "    \n",
        "    ### START CODE HERE ###\n",
        "    for i in range(max_iterations):\n",
        "\n",
        "      y_pred = predict(X ,weights)\n",
        "\n",
        "      loss = mean_squared_error(y,y_pred)\n",
        "\n",
        "      losses.append(loss)\n",
        "\n",
        "      grad = gradient(X,y,y_pred)\n",
        "\n",
        "      #weights updation finally\n",
        "\n",
        "      weights[0] = weights[0] - learning_rate*grad[0]\n",
        "      weights[1] = weights[1] - learning_rate*grad[1]\n",
        "\n",
        "      print(\"Loss-{} : {}\".format(i+1,losses[i]))\n",
        "\n",
        "    ### END CODE HERE ###\n",
        "    \n",
        "    return weights, losses"
      ],
      "execution_count": 12,
      "outputs": []
    },
    {
      "cell_type": "markdown",
      "metadata": {
        "id": "unO4E_shR8x0",
        "colab_type": "text"
      },
      "source": [
        "##### Congratulations! You have implemented linear regression from scratch. Let's see this in action."
      ]
    },
    {
      "cell_type": "code",
      "metadata": {
        "id": "mVPLNTUrR8x0",
        "colab_type": "code",
        "colab": {
          "base_uri": "https://localhost:8080/",
          "height": 1000
        },
        "outputId": "41266d98-4529-4b32-f514-b6e2ff24e1f0"
      },
      "source": [
        "# Perform gradient descent\n",
        "optimal_weights, losses = gradient_descent(X, y)"
      ],
      "execution_count": 13,
      "outputs": [
        {
          "output_type": "stream",
          "text": [
            "Loss-1 : 145.1898861108217\n",
            "Loss-2 : 93.8400929963231\n",
            "Loss-3 : 70.25920422343553\n",
            "Loss-4 : 59.43035360238908\n",
            "Loss-5 : 54.45749481438275\n",
            "Loss-6 : 52.173824997215796\n",
            "Loss-7 : 51.12508472390307\n",
            "Loss-8 : 50.6434488809149\n",
            "Loss-9 : 50.42223877393778\n",
            "Loss-10 : 50.3206213919926\n",
            "Loss-11 : 50.27392339014472\n",
            "Loss-12 : 50.25244547050966\n",
            "Loss-13 : 50.24254911948151\n",
            "Loss-14 : 50.23797125790927\n",
            "Loss-15 : 50.23583575415682\n",
            "Loss-16 : 50.23482183085749\n",
            "Loss-17 : 50.23432296053862\n",
            "Loss-18 : 50.234060613612684\n",
            "Loss-19 : 50.23390688370342\n",
            "Loss-20 : 50.233803033636015\n",
            "Loss-21 : 50.23372209012095\n",
            "Loss-22 : 50.233651666482395\n",
            "Loss-23 : 50.233586074510185\n",
            "Loss-24 : 50.23352270206406\n",
            "Loss-25 : 50.2334603495968\n",
            "Loss-26 : 50.23339846625216\n",
            "Loss-27 : 50.23333679906596\n",
            "Loss-28 : 50.23327523187191\n",
            "Loss-29 : 50.23321371132412\n",
            "Loss-30 : 50.23315221292504\n",
            "Loss-31 : 50.23309072542495\n",
            "Loss-32 : 50.233029243657676\n",
            "Loss-33 : 50.23296776525081\n",
            "Loss-34 : 50.23290628911491\n",
            "Loss-35 : 50.23284481474961\n",
            "Loss-36 : 50.23278334192518\n",
            "Loss-37 : 50.232721870536025\n",
            "Loss-38 : 50.23266040053374\n",
            "Loss-39 : 50.23259893189599\n",
            "Loss-40 : 50.23253746461254\n",
            "Loss-41 : 50.232475998678694\n",
            "Loss-42 : 50.23241453409224\n",
            "Loss-43 : 50.23235307085218\n",
            "Loss-44 : 50.232291608958015\n",
            "Loss-45 : 50.232230148409506\n",
            "Loss-46 : 50.23216868920654\n",
            "Loss-47 : 50.23210723134903\n",
            "Loss-48 : 50.23204577483695\n",
            "Loss-49 : 50.23198431967025\n",
            "Loss-50 : 50.231922865848844\n",
            "Loss-51 : 50.23186141337278\n",
            "Loss-52 : 50.231799962242\n",
            "Loss-53 : 50.23173851245647\n",
            "Loss-54 : 50.231677064016154\n",
            "Loss-55 : 50.23161561692102\n",
            "Loss-56 : 50.23155417117104\n",
            "Loss-57 : 50.23149272676621\n",
            "Loss-58 : 50.23143128370647\n",
            "Loss-59 : 50.23136984199182\n",
            "Loss-60 : 50.231308401622194\n",
            "Loss-61 : 50.23124696259758\n",
            "Loss-62 : 50.23118552491796\n",
            "Loss-63 : 50.2311240885833\n",
            "Loss-64 : 50.23106265359356\n",
            "Loss-65 : 50.231001219948695\n",
            "Loss-66 : 50.23093978764872\n",
            "Loss-67 : 50.23087835669357\n",
            "Loss-68 : 50.23081692708325\n",
            "Loss-69 : 50.23075549881767\n",
            "Loss-70 : 50.23069407189688\n",
            "Loss-71 : 50.230632646320785\n",
            "Loss-72 : 50.230571222089374\n",
            "Loss-73 : 50.23050979920264\n",
            "Loss-74 : 50.23044837766052\n",
            "Loss-75 : 50.230386957463004\n",
            "Loss-76 : 50.23032553861006\n",
            "Loss-77 : 50.23026412110167\n",
            "Loss-78 : 50.23020270493779\n",
            "Loss-79 : 50.23014129011839\n",
            "Loss-80 : 50.23007987664344\n",
            "Loss-81 : 50.230018464512916\n",
            "Loss-82 : 50.22995705372679\n",
            "Loss-83 : 50.22989564428504\n",
            "Loss-84 : 50.22983423618761\n",
            "Loss-85 : 50.229772829434495\n",
            "Loss-86 : 50.22971142402564\n",
            "Loss-87 : 50.22965001996105\n",
            "Loss-88 : 50.22958861724067\n",
            "Loss-89 : 50.229527215864486\n",
            "Loss-90 : 50.22946581583246\n",
            "Loss-91 : 50.22940441714457\n",
            "Loss-92 : 50.22934301980077\n",
            "Loss-93 : 50.22928162380106\n",
            "Loss-94 : 50.22922022914536\n",
            "Loss-95 : 50.2291588358337\n",
            "Loss-96 : 50.229097443866024\n",
            "Loss-97 : 50.22903605324229\n",
            "Loss-98 : 50.22897466396249\n",
            "Loss-99 : 50.228913276026574\n",
            "Loss-100 : 50.22885188943452\n"
          ],
          "name": "stdout"
        }
      ]
    },
    {
      "cell_type": "code",
      "metadata": {
        "id": "uhp6g5HnR8x3",
        "colab_type": "code",
        "colab": {
          "base_uri": "https://localhost:8080/",
          "height": 34
        },
        "outputId": "8c21aa4d-07b1-4ee7-9d76-b9c29f231381"
      },
      "source": [
        "# DO NOT CHANGE THE FOLLOWING CODE CELLS\n",
        "# Print final loss\n",
        "print(\"Mean squared error:\", losses[-1])"
      ],
      "execution_count": 14,
      "outputs": [
        {
          "output_type": "stream",
          "text": [
            "Mean squared error: 50.22885188943452\n"
          ],
          "name": "stdout"
        }
      ]
    },
    {
      "cell_type": "code",
      "metadata": {
        "id": "3xiItsa2R8x5",
        "colab_type": "code",
        "colab": {
          "base_uri": "https://localhost:8080/",
          "height": 294
        },
        "outputId": "e318d5e7-0b84-45a3-e0ee-34c2a55a9ac8"
      },
      "source": [
        "# Plot the loss curve\n",
        "plt.plot([i for i in range(len(losses))], losses)\n",
        "plt.title(\"Loss curve\")\n",
        "plt.xlabel(\"Iteration num\")\n",
        "plt.ylabel(\"Loss\")\n",
        "plt.show()"
      ],
      "execution_count": 15,
      "outputs": [
        {
          "output_type": "display_data",
          "data": {
            "image/png": "[encoded data removed]",
            "text/plain": [
              "<Figure size 432x288 with 1 Axes>"
            ]
          },
          "metadata": {
            "tags": [],
            "needs_background": "light"
          }
        }
      ]
    },
    {
      "cell_type": "code",
      "metadata": {
        "id": "Q_cXYrCXR8x7",
        "colab_type": "code",
        "colab": {}
      },
      "source": [
        "# Make predictions using trained weights\n",
        "y_pred = predict(X, optimal_weights)"
      ],
      "execution_count": 18,
      "outputs": []
    },
    {
      "cell_type": "code",
      "metadata": {
        "id": "l6o0T8upR8x-",
        "colab_type": "code",
        "colab": {
          "base_uri": "https://localhost:8080/",
          "height": 294
        },
        "outputId": "e526013a-77df-4347-98a0-05e7f825afe3"
      },
      "source": [
        "# Visualize the results by plotting it\n",
        "plt.scatter(X[:,1], y, c='r', label='Actual scores')\n",
        "plt.plot(X[:,1], y_pred, c='g', label='Fitted line | predictions')\n",
        "plt.legend()\n",
        "plt.title(\"Linear regression fitted line\")\n",
        "plt.xlabel(\"Second year grades\")\n",
        "plt.ylabel(\"Third year grades\")\n",
        "plt.show()"
      ],
      "execution_count": 19,
      "outputs": [
        {
          "output_type": "display_data",
          "data": {
            "image/png": "[encoded data removed]",
            "text/plain": [
              "<Figure size 432x288 with 1 Axes>"
            ]
          },
          "metadata": {
            "tags": [],
            "needs_background": "light"
          }
        }
      ]
    },
    {
      "cell_type": "code",
      "metadata": {
        "id": "hKW34JFwR8yC",
        "colab_type": "code",
        "colab": {}
      },
      "source": [
        " "
      ],
      "execution_count": null,
      "outputs": []
    }
  ]
}